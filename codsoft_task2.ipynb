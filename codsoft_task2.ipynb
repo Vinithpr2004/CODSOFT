{
  "nbformat": 4,
  "nbformat_minor": 0,
  "metadata": {
    "colab": {
      "provenance": [],
      "gpuType": "T4",
      "authorship_tag": "ABX9TyOa44cecZfuiQUaqu5psPZo",
      "include_colab_link": true
    },
    "kernelspec": {
      "name": "python3",
      "display_name": "Python 3"
    },
    "language_info": {
      "name": "python"
    }
  },
  "cells": [
    {
      "cell_type": "markdown",
      "metadata": {
        "id": "view-in-github",
        "colab_type": "text"
      },
      "source": [
        "<a href=\"https://colab.research.google.com/github/Vinithpr2004/CODSOFT/blob/main/codsoft_task2.ipynb\" target=\"_parent\"><img src=\"https://colab.research.google.com/assets/colab-badge.svg\" alt=\"Open In Colab\"/></a>"
      ]
    },
    {
      "cell_type": "markdown",
      "source": [],
      "metadata": {
        "id": "pwjaBEfPVz3K"
      }
    },
    {
      "cell_type": "code",
      "execution_count": null,
      "metadata": {
        "id": "a3Vp3oRNA3uF"
      },
      "outputs": [],
      "source": [
        "import numpy as np\n",
        "import pandas as pd\n",
        "from sklearn.model_selection import train_test_split\n",
        "from sklearn.preprocessing import StandardScaler\n",
        "from sklearn.linear_model import LogisticRegression\n",
        "from sklearn.metrics import accuracy_score, confusion_matrix, classification_report\n",
        "from sklearn.preprocessing import StandardScaler, OneHotEncoder\n",
        "from sklearn.compose import ColumnTransformer\n",
        "from sklearn.pipeline import Pipeline\n",
        "from sklearn.impute import SimpleImputer"
      ]
    },
    {
      "cell_type": "code",
      "source": [
        "#loading the csv files\n",
        "train=pd.read_csv('/content/fraudTrain.csv')\n",
        "test= pd.read_csv('/content/fraudTrain.csv')"
      ],
      "metadata": {
        "id": "wwOH9ERVCJyv"
      },
      "execution_count": null,
      "outputs": []
    },
    {
      "cell_type": "code",
      "source": [
        "#basic info\n",
        "print(train.info())\n"
      ],
      "metadata": {
        "id": "K_lcJO9PFIjN",
        "colab": {
          "base_uri": "https://localhost:8080/"
        },
        "outputId": "ac9b214b-a2cd-4aa2-bd27-e8ac34440853"
      },
      "execution_count": null,
      "outputs": [
        {
          "output_type": "stream",
          "name": "stdout",
          "text": [
            "<class 'pandas.core.frame.DataFrame'>\n",
            "RangeIndex: 11706 entries, 0 to 11705\n",
            "Data columns (total 23 columns):\n",
            " #   Column                 Non-Null Count  Dtype  \n",
            "---  ------                 --------------  -----  \n",
            " 0   Unnamed: 0             11706 non-null  int64  \n",
            " 1   trans_date_trans_time  11706 non-null  object \n",
            " 2   cc_num                 11706 non-null  int64  \n",
            " 3   merchant               11706 non-null  object \n",
            " 4   category               11706 non-null  object \n",
            " 5   amt                    11706 non-null  float64\n",
            " 6   first                  11706 non-null  object \n",
            " 7   last                   11706 non-null  object \n",
            " 8   gender                 11706 non-null  object \n",
            " 9   street                 11706 non-null  object \n",
            " 10  city                   11706 non-null  object \n",
            " 11  state                  11706 non-null  object \n",
            " 12  zip                    11706 non-null  int64  \n",
            " 13  lat                    11706 non-null  float64\n",
            " 14  long                   11706 non-null  float64\n",
            " 15  city_pop               11706 non-null  int64  \n",
            " 16  job                    11705 non-null  object \n",
            " 17  dob                    11705 non-null  object \n",
            " 18  trans_num              11705 non-null  object \n",
            " 19  unix_time              11705 non-null  float64\n",
            " 20  merch_lat              11705 non-null  float64\n",
            " 21  merch_long             11705 non-null  float64\n",
            " 22  is_fraud               11705 non-null  float64\n",
            "dtypes: float64(7), int64(4), object(12)\n",
            "memory usage: 2.1+ MB\n",
            "None\n"
          ]
        }
      ]
    },
    {
      "cell_type": "code",
      "source": [
        "print(test.info())"
      ],
      "metadata": {
        "id": "OmiWP9B3FIa0",
        "colab": {
          "base_uri": "https://localhost:8080/"
        },
        "outputId": "3a6cd824-f796-47b3-8546-b9e440f56984"
      },
      "execution_count": null,
      "outputs": [
        {
          "output_type": "stream",
          "name": "stdout",
          "text": [
            "<class 'pandas.core.frame.DataFrame'>\n",
            "RangeIndex: 11706 entries, 0 to 11705\n",
            "Data columns (total 23 columns):\n",
            " #   Column                 Non-Null Count  Dtype  \n",
            "---  ------                 --------------  -----  \n",
            " 0   Unnamed: 0             11706 non-null  int64  \n",
            " 1   trans_date_trans_time  11706 non-null  object \n",
            " 2   cc_num                 11706 non-null  int64  \n",
            " 3   merchant               11706 non-null  object \n",
            " 4   category               11706 non-null  object \n",
            " 5   amt                    11706 non-null  float64\n",
            " 6   first                  11706 non-null  object \n",
            " 7   last                   11706 non-null  object \n",
            " 8   gender                 11706 non-null  object \n",
            " 9   street                 11706 non-null  object \n",
            " 10  city                   11706 non-null  object \n",
            " 11  state                  11706 non-null  object \n",
            " 12  zip                    11706 non-null  int64  \n",
            " 13  lat                    11706 non-null  float64\n",
            " 14  long                   11706 non-null  float64\n",
            " 15  city_pop               11706 non-null  int64  \n",
            " 16  job                    11705 non-null  object \n",
            " 17  dob                    11705 non-null  object \n",
            " 18  trans_num              11705 non-null  object \n",
            " 19  unix_time              11705 non-null  float64\n",
            " 20  merch_lat              11705 non-null  float64\n",
            " 21  merch_long             11705 non-null  float64\n",
            " 22  is_fraud               11705 non-null  float64\n",
            "dtypes: float64(7), int64(4), object(12)\n",
            "memory usage: 2.1+ MB\n",
            "None\n"
          ]
        }
      ]
    },
    {
      "cell_type": "code",
      "source": [
        "# Drop unnecessary columns\n",
        "drop_columns = ['Unnamed: 0', 'trans_num']\n",
        "fraud_train = train.drop(columns=drop_columns)\n",
        "fraud_test = test.drop(columns=drop_columns)\n"
      ],
      "metadata": {
        "id": "w_lRixJAZJOa"
      },
      "execution_count": null,
      "outputs": []
    },
    {
      "cell_type": "code",
      "source": [
        "# Extract datetime information\n",
        "fraud_train['trans_date_trans_time'] = pd.to_datetime(fraud_train['trans_date_trans_time'])\n",
        "fraud_train['trans_year'] = fraud_train['trans_date_trans_time'].dt.year\n",
        "fraud_train['trans_month'] = fraud_train['trans_date_trans_time'].dt.month\n",
        "fraud_train['trans_day'] = fraud_train['trans_date_trans_time'].dt.day\n",
        "fraud_train['trans_hour'] = fraud_train['trans_date_trans_time'].dt.hour\n",
        "fraud_train.drop(['trans_date_trans_time'], axis=1, inplace=True)\n"
      ],
      "metadata": {
        "id": "Jjk2Ii9FZT7r"
      },
      "execution_count": null,
      "outputs": []
    },
    {
      "cell_type": "code",
      "source": [
        "# Extract datetime information for test data\n",
        "fraud_test['trans_date_trans_time'] = pd.to_datetime(fraud_test['trans_date_trans_time'])\n",
        "fraud_test['trans_year'] = fraud_test['trans_date_trans_time'].dt.year\n",
        "fraud_test['trans_month'] = fraud_test['trans_date_trans_time'].dt.month\n",
        "fraud_test['trans_day'] = fraud_test['trans_date_trans_time'].dt.day\n",
        "fraud_test['trans_hour'] = fraud_test['trans_date_trans_time'].dt.hour\n",
        "fraud_test.drop(['trans_date_trans_time'], axis=1, inplace=True)"
      ],
      "metadata": {
        "id": "boJf7OohcOiq"
      },
      "execution_count": null,
      "outputs": []
    },
    {
      "cell_type": "code",
      "source": [
        "# Assuming 'is_fraud' is the target variable\n",
        "X_train = train.drop('is_fraud', axis=1)\n",
        "y_train = train['is_fraud']\n",
        "\n",
        "X_test = test.drop('is_fraud', axis=1)\n",
        "y_test = test['is_fraud']"
      ],
      "metadata": {
        "id": "5l6xQccQIMgj"
      },
      "execution_count": null,
      "outputs": []
    },
    {
      "cell_type": "code",
      "source": [
        "# Handle missing values in the target variable\n",
        "fraud_train = fraud_train.dropna(subset=['is_fraud'])"
      ],
      "metadata": {
        "id": "45MRdc9bVQHV"
      },
      "execution_count": null,
      "outputs": []
    },
    {
      "cell_type": "code",
      "source": [
        "# Separate features and target variable\n",
        "X_train = fraud_train.drop('is_fraud', axis=1)\n",
        "y_train = fraud_train['is_fraud']"
      ],
      "metadata": {
        "id": "V1EwqKAlIMR6"
      },
      "execution_count": null,
      "outputs": []
    },
    {
      "cell_type": "code",
      "source": [
        "# Define categorical and numeric features\n",
        "categorical_features = X_train.select_dtypes(include=['object']).columns\n",
        "numeric_features = X_train.select_dtypes(include=['number']).columns"
      ],
      "metadata": {
        "id": "T85hiMoH26Ga"
      },
      "execution_count": null,
      "outputs": []
    },
    {
      "cell_type": "code",
      "source": [
        "# Define preprocessing steps\n",
        "numeric_transformer = Pipeline(steps=[\n",
        "    ('imputer', SimpleImputer(strategy='mean')),\n",
        "    ('scaler', StandardScaler())\n",
        "])\n",
        "\n",
        "categorical_transformer = Pipeline(steps=[\n",
        "    ('imputer', SimpleImputer(strategy='most_frequent')),\n",
        "    ('onehot', OneHotEncoder(handle_unknown='ignore'))\n",
        "])"
      ],
      "metadata": {
        "id": "z9SrKAvT256W"
      },
      "execution_count": null,
      "outputs": []
    },
    {
      "cell_type": "code",
      "source": [
        "# Apply transformers to columns\n",
        "preprocessor = ColumnTransformer(\n",
        "    transformers=[\n",
        "        ('num', numeric_transformer, numeric_features),\n",
        "        ('cat', categorical_transformer, categorical_features)\n",
        "    ])"
      ],
      "metadata": {
        "id": "7gHBiY31xepf"
      },
      "execution_count": null,
      "outputs": []
    },
    {
      "cell_type": "code",
      "source": [
        "# Create and train the Logistic Regression model within a pipeline\n",
        "model = Pipeline(steps=[('preprocessor', preprocessor),\n",
        "                        ('classifier', LogisticRegression(random_state=42))])"
      ],
      "metadata": {
        "id": "m0k4djMIzHiu"
      },
      "execution_count": null,
      "outputs": []
    },
    {
      "cell_type": "code",
      "source": [
        "# Split the data into training and validation sets\n",
        "x_train, x_val, y_train, y_val = train_test_split(X_train, y_train, test_size=0.2, random_state=42)"
      ],
      "metadata": {
        "id": "gFhlO-MRZ8bT"
      },
      "execution_count": null,
      "outputs": []
    },
    {
      "cell_type": "code",
      "source": [
        "# Train the model\n",
        "model.fit(x_train, y_train)"
      ],
      "metadata": {
        "colab": {
          "base_uri": "https://localhost:8080/",
          "height": 225
        },
        "id": "42fca1XZaYkz",
        "outputId": "fb9f713c-db61-4bd0-de75-0ed414163ca4"
      },
      "execution_count": null,
      "outputs": [
        {
          "output_type": "execute_result",
          "data": {
            "text/plain": [
              "Pipeline(steps=[('preprocessor',\n",
              "                 ColumnTransformer(transformers=[('num',\n",
              "                                                  Pipeline(steps=[('imputer',\n",
              "                                                                   SimpleImputer()),\n",
              "                                                                  ('scaler',\n",
              "                                                                   StandardScaler())]),\n",
              "                                                  Index(['cc_num', 'amt', 'zip', 'lat', 'long', 'city_pop', 'unix_time',\n",
              "       'merch_lat', 'merch_long', 'trans_year', 'trans_month', 'trans_day',\n",
              "       'trans_hour'],\n",
              "      dtype='object')),\n",
              "                                                 ('cat',\n",
              "                                                  Pipeline(steps=[('imputer',\n",
              "                                                                   SimpleImputer(strategy='most_frequent')),\n",
              "                                                                  ('onehot',\n",
              "                                                                   OneHotEncoder(handle_unknown='ignore'))]),\n",
              "                                                  Index(['merchant', 'category', 'first', 'last', 'gender', 'street', 'city',\n",
              "       'state', 'job', 'dob'],\n",
              "      dtype='object'))])),\n",
              "                ('classifier', LogisticRegression(random_state=42))])"
            ],
            "text/html": [
              "<style>#sk-container-id-1 {color: black;background-color: white;}#sk-container-id-1 pre{padding: 0;}#sk-container-id-1 div.sk-toggleable {background-color: white;}#sk-container-id-1 label.sk-toggleable__label {cursor: pointer;display: block;width: 100%;margin-bottom: 0;padding: 0.3em;box-sizing: border-box;text-align: center;}#sk-container-id-1 label.sk-toggleable__label-arrow:before {content: \"▸\";float: left;margin-right: 0.25em;color: #696969;}#sk-container-id-1 label.sk-toggleable__label-arrow:hover:before {color: black;}#sk-container-id-1 div.sk-estimator:hover label.sk-toggleable__label-arrow:before {color: black;}#sk-container-id-1 div.sk-toggleable__content {max-height: 0;max-width: 0;overflow: hidden;text-align: left;background-color: #f0f8ff;}#sk-container-id-1 div.sk-toggleable__content pre {margin: 0.2em;color: black;border-radius: 0.25em;background-color: #f0f8ff;}#sk-container-id-1 input.sk-toggleable__control:checked~div.sk-toggleable__content {max-height: 200px;max-width: 100%;overflow: auto;}#sk-container-id-1 input.sk-toggleable__control:checked~label.sk-toggleable__label-arrow:before {content: \"▾\";}#sk-container-id-1 div.sk-estimator input.sk-toggleable__control:checked~label.sk-toggleable__label {background-color: #d4ebff;}#sk-container-id-1 div.sk-label input.sk-toggleable__control:checked~label.sk-toggleable__label {background-color: #d4ebff;}#sk-container-id-1 input.sk-hidden--visually {border: 0;clip: rect(1px 1px 1px 1px);clip: rect(1px, 1px, 1px, 1px);height: 1px;margin: -1px;overflow: hidden;padding: 0;position: absolute;width: 1px;}#sk-container-id-1 div.sk-estimator {font-family: monospace;background-color: #f0f8ff;border: 1px dotted black;border-radius: 0.25em;box-sizing: border-box;margin-bottom: 0.5em;}#sk-container-id-1 div.sk-estimator:hover {background-color: #d4ebff;}#sk-container-id-1 div.sk-parallel-item::after {content: \"\";width: 100%;border-bottom: 1px solid gray;flex-grow: 1;}#sk-container-id-1 div.sk-label:hover label.sk-toggleable__label {background-color: #d4ebff;}#sk-container-id-1 div.sk-serial::before {content: \"\";position: absolute;border-left: 1px solid gray;box-sizing: border-box;top: 0;bottom: 0;left: 50%;z-index: 0;}#sk-container-id-1 div.sk-serial {display: flex;flex-direction: column;align-items: center;background-color: white;padding-right: 0.2em;padding-left: 0.2em;position: relative;}#sk-container-id-1 div.sk-item {position: relative;z-index: 1;}#sk-container-id-1 div.sk-parallel {display: flex;align-items: stretch;justify-content: center;background-color: white;position: relative;}#sk-container-id-1 div.sk-item::before, #sk-container-id-1 div.sk-parallel-item::before {content: \"\";position: absolute;border-left: 1px solid gray;box-sizing: border-box;top: 0;bottom: 0;left: 50%;z-index: -1;}#sk-container-id-1 div.sk-parallel-item {display: flex;flex-direction: column;z-index: 1;position: relative;background-color: white;}#sk-container-id-1 div.sk-parallel-item:first-child::after {align-self: flex-end;width: 50%;}#sk-container-id-1 div.sk-parallel-item:last-child::after {align-self: flex-start;width: 50%;}#sk-container-id-1 div.sk-parallel-item:only-child::after {width: 0;}#sk-container-id-1 div.sk-dashed-wrapped {border: 1px dashed gray;margin: 0 0.4em 0.5em 0.4em;box-sizing: border-box;padding-bottom: 0.4em;background-color: white;}#sk-container-id-1 div.sk-label label {font-family: monospace;font-weight: bold;display: inline-block;line-height: 1.2em;}#sk-container-id-1 div.sk-label-container {text-align: center;}#sk-container-id-1 div.sk-container {/* jupyter's `normalize.less` sets `[hidden] { display: none; }` but bootstrap.min.css set `[hidden] { display: none !important; }` so we also need the `!important` here to be able to override the default hidden behavior on the sphinx rendered scikit-learn.org. See: https://github.com/scikit-learn/scikit-learn/issues/21755 */display: inline-block !important;position: relative;}#sk-container-id-1 div.sk-text-repr-fallback {display: none;}</style><div id=\"sk-container-id-1\" class=\"sk-top-container\"><div class=\"sk-text-repr-fallback\"><pre>Pipeline(steps=[(&#x27;preprocessor&#x27;,\n",
              "                 ColumnTransformer(transformers=[(&#x27;num&#x27;,\n",
              "                                                  Pipeline(steps=[(&#x27;imputer&#x27;,\n",
              "                                                                   SimpleImputer()),\n",
              "                                                                  (&#x27;scaler&#x27;,\n",
              "                                                                   StandardScaler())]),\n",
              "                                                  Index([&#x27;cc_num&#x27;, &#x27;amt&#x27;, &#x27;zip&#x27;, &#x27;lat&#x27;, &#x27;long&#x27;, &#x27;city_pop&#x27;, &#x27;unix_time&#x27;,\n",
              "       &#x27;merch_lat&#x27;, &#x27;merch_long&#x27;, &#x27;trans_year&#x27;, &#x27;trans_month&#x27;, &#x27;trans_day&#x27;,\n",
              "       &#x27;trans_hour&#x27;],\n",
              "      dtype=&#x27;object&#x27;)),\n",
              "                                                 (&#x27;cat&#x27;,\n",
              "                                                  Pipeline(steps=[(&#x27;imputer&#x27;,\n",
              "                                                                   SimpleImputer(strategy=&#x27;most_frequent&#x27;)),\n",
              "                                                                  (&#x27;onehot&#x27;,\n",
              "                                                                   OneHotEncoder(handle_unknown=&#x27;ignore&#x27;))]),\n",
              "                                                  Index([&#x27;merchant&#x27;, &#x27;category&#x27;, &#x27;first&#x27;, &#x27;last&#x27;, &#x27;gender&#x27;, &#x27;street&#x27;, &#x27;city&#x27;,\n",
              "       &#x27;state&#x27;, &#x27;job&#x27;, &#x27;dob&#x27;],\n",
              "      dtype=&#x27;object&#x27;))])),\n",
              "                (&#x27;classifier&#x27;, LogisticRegression(random_state=42))])</pre><b>In a Jupyter environment, please rerun this cell to show the HTML representation or trust the notebook. <br />On GitHub, the HTML representation is unable to render, please try loading this page with nbviewer.org.</b></div><div class=\"sk-container\" hidden><div class=\"sk-item sk-dashed-wrapped\"><div class=\"sk-label-container\"><div class=\"sk-label sk-toggleable\"><input class=\"sk-toggleable__control sk-hidden--visually\" id=\"sk-estimator-id-1\" type=\"checkbox\" ><label for=\"sk-estimator-id-1\" class=\"sk-toggleable__label sk-toggleable__label-arrow\">Pipeline</label><div class=\"sk-toggleable__content\"><pre>Pipeline(steps=[(&#x27;preprocessor&#x27;,\n",
              "                 ColumnTransformer(transformers=[(&#x27;num&#x27;,\n",
              "                                                  Pipeline(steps=[(&#x27;imputer&#x27;,\n",
              "                                                                   SimpleImputer()),\n",
              "                                                                  (&#x27;scaler&#x27;,\n",
              "                                                                   StandardScaler())]),\n",
              "                                                  Index([&#x27;cc_num&#x27;, &#x27;amt&#x27;, &#x27;zip&#x27;, &#x27;lat&#x27;, &#x27;long&#x27;, &#x27;city_pop&#x27;, &#x27;unix_time&#x27;,\n",
              "       &#x27;merch_lat&#x27;, &#x27;merch_long&#x27;, &#x27;trans_year&#x27;, &#x27;trans_month&#x27;, &#x27;trans_day&#x27;,\n",
              "       &#x27;trans_hour&#x27;],\n",
              "      dtype=&#x27;object&#x27;)),\n",
              "                                                 (&#x27;cat&#x27;,\n",
              "                                                  Pipeline(steps=[(&#x27;imputer&#x27;,\n",
              "                                                                   SimpleImputer(strategy=&#x27;most_frequent&#x27;)),\n",
              "                                                                  (&#x27;onehot&#x27;,\n",
              "                                                                   OneHotEncoder(handle_unknown=&#x27;ignore&#x27;))]),\n",
              "                                                  Index([&#x27;merchant&#x27;, &#x27;category&#x27;, &#x27;first&#x27;, &#x27;last&#x27;, &#x27;gender&#x27;, &#x27;street&#x27;, &#x27;city&#x27;,\n",
              "       &#x27;state&#x27;, &#x27;job&#x27;, &#x27;dob&#x27;],\n",
              "      dtype=&#x27;object&#x27;))])),\n",
              "                (&#x27;classifier&#x27;, LogisticRegression(random_state=42))])</pre></div></div></div><div class=\"sk-serial\"><div class=\"sk-item sk-dashed-wrapped\"><div class=\"sk-label-container\"><div class=\"sk-label sk-toggleable\"><input class=\"sk-toggleable__control sk-hidden--visually\" id=\"sk-estimator-id-2\" type=\"checkbox\" ><label for=\"sk-estimator-id-2\" class=\"sk-toggleable__label sk-toggleable__label-arrow\">preprocessor: ColumnTransformer</label><div class=\"sk-toggleable__content\"><pre>ColumnTransformer(transformers=[(&#x27;num&#x27;,\n",
              "                                 Pipeline(steps=[(&#x27;imputer&#x27;, SimpleImputer()),\n",
              "                                                 (&#x27;scaler&#x27;, StandardScaler())]),\n",
              "                                 Index([&#x27;cc_num&#x27;, &#x27;amt&#x27;, &#x27;zip&#x27;, &#x27;lat&#x27;, &#x27;long&#x27;, &#x27;city_pop&#x27;, &#x27;unix_time&#x27;,\n",
              "       &#x27;merch_lat&#x27;, &#x27;merch_long&#x27;, &#x27;trans_year&#x27;, &#x27;trans_month&#x27;, &#x27;trans_day&#x27;,\n",
              "       &#x27;trans_hour&#x27;],\n",
              "      dtype=&#x27;object&#x27;)),\n",
              "                                (&#x27;cat&#x27;,\n",
              "                                 Pipeline(steps=[(&#x27;imputer&#x27;,\n",
              "                                                  SimpleImputer(strategy=&#x27;most_frequent&#x27;)),\n",
              "                                                 (&#x27;onehot&#x27;,\n",
              "                                                  OneHotEncoder(handle_unknown=&#x27;ignore&#x27;))]),\n",
              "                                 Index([&#x27;merchant&#x27;, &#x27;category&#x27;, &#x27;first&#x27;, &#x27;last&#x27;, &#x27;gender&#x27;, &#x27;street&#x27;, &#x27;city&#x27;,\n",
              "       &#x27;state&#x27;, &#x27;job&#x27;, &#x27;dob&#x27;],\n",
              "      dtype=&#x27;object&#x27;))])</pre></div></div></div><div class=\"sk-parallel\"><div class=\"sk-parallel-item\"><div class=\"sk-item\"><div class=\"sk-label-container\"><div class=\"sk-label sk-toggleable\"><input class=\"sk-toggleable__control sk-hidden--visually\" id=\"sk-estimator-id-3\" type=\"checkbox\" ><label for=\"sk-estimator-id-3\" class=\"sk-toggleable__label sk-toggleable__label-arrow\">num</label><div class=\"sk-toggleable__content\"><pre>Index([&#x27;cc_num&#x27;, &#x27;amt&#x27;, &#x27;zip&#x27;, &#x27;lat&#x27;, &#x27;long&#x27;, &#x27;city_pop&#x27;, &#x27;unix_time&#x27;,\n",
              "       &#x27;merch_lat&#x27;, &#x27;merch_long&#x27;, &#x27;trans_year&#x27;, &#x27;trans_month&#x27;, &#x27;trans_day&#x27;,\n",
              "       &#x27;trans_hour&#x27;],\n",
              "      dtype=&#x27;object&#x27;)</pre></div></div></div><div class=\"sk-serial\"><div class=\"sk-item\"><div class=\"sk-serial\"><div class=\"sk-item\"><div class=\"sk-estimator sk-toggleable\"><input class=\"sk-toggleable__control sk-hidden--visually\" id=\"sk-estimator-id-4\" type=\"checkbox\" ><label for=\"sk-estimator-id-4\" class=\"sk-toggleable__label sk-toggleable__label-arrow\">SimpleImputer</label><div class=\"sk-toggleable__content\"><pre>SimpleImputer()</pre></div></div></div><div class=\"sk-item\"><div class=\"sk-estimator sk-toggleable\"><input class=\"sk-toggleable__control sk-hidden--visually\" id=\"sk-estimator-id-5\" type=\"checkbox\" ><label for=\"sk-estimator-id-5\" class=\"sk-toggleable__label sk-toggleable__label-arrow\">StandardScaler</label><div class=\"sk-toggleable__content\"><pre>StandardScaler()</pre></div></div></div></div></div></div></div></div><div class=\"sk-parallel-item\"><div class=\"sk-item\"><div class=\"sk-label-container\"><div class=\"sk-label sk-toggleable\"><input class=\"sk-toggleable__control sk-hidden--visually\" id=\"sk-estimator-id-6\" type=\"checkbox\" ><label for=\"sk-estimator-id-6\" class=\"sk-toggleable__label sk-toggleable__label-arrow\">cat</label><div class=\"sk-toggleable__content\"><pre>Index([&#x27;merchant&#x27;, &#x27;category&#x27;, &#x27;first&#x27;, &#x27;last&#x27;, &#x27;gender&#x27;, &#x27;street&#x27;, &#x27;city&#x27;,\n",
              "       &#x27;state&#x27;, &#x27;job&#x27;, &#x27;dob&#x27;],\n",
              "      dtype=&#x27;object&#x27;)</pre></div></div></div><div class=\"sk-serial\"><div class=\"sk-item\"><div class=\"sk-serial\"><div class=\"sk-item\"><div class=\"sk-estimator sk-toggleable\"><input class=\"sk-toggleable__control sk-hidden--visually\" id=\"sk-estimator-id-7\" type=\"checkbox\" ><label for=\"sk-estimator-id-7\" class=\"sk-toggleable__label sk-toggleable__label-arrow\">SimpleImputer</label><div class=\"sk-toggleable__content\"><pre>SimpleImputer(strategy=&#x27;most_frequent&#x27;)</pre></div></div></div><div class=\"sk-item\"><div class=\"sk-estimator sk-toggleable\"><input class=\"sk-toggleable__control sk-hidden--visually\" id=\"sk-estimator-id-8\" type=\"checkbox\" ><label for=\"sk-estimator-id-8\" class=\"sk-toggleable__label sk-toggleable__label-arrow\">OneHotEncoder</label><div class=\"sk-toggleable__content\"><pre>OneHotEncoder(handle_unknown=&#x27;ignore&#x27;)</pre></div></div></div></div></div></div></div></div></div></div><div class=\"sk-item\"><div class=\"sk-estimator sk-toggleable\"><input class=\"sk-toggleable__control sk-hidden--visually\" id=\"sk-estimator-id-9\" type=\"checkbox\" ><label for=\"sk-estimator-id-9\" class=\"sk-toggleable__label sk-toggleable__label-arrow\">LogisticRegression</label><div class=\"sk-toggleable__content\"><pre>LogisticRegression(random_state=42)</pre></div></div></div></div></div></div></div>"
            ]
          },
          "metadata": {},
          "execution_count": 18
        }
      ]
    },
    {
      "cell_type": "code",
      "source": [
        "# Make predictions on the validation set\n",
        "val_predictions = model.predict(x_val)\n",
        "\n",
        "# Evaluate the model on the validation set\n",
        "accuracy = accuracy_score(y_val, val_predictions)\n",
        "conf_matrix = confusion_matrix(y_val, val_predictions)\n",
        "classification_rep = classification_report(y_val, val_predictions)"
      ],
      "metadata": {
        "id": "NcyiXinXa5ym"
      },
      "execution_count": null,
      "outputs": []
    },
    {
      "cell_type": "code",
      "source": [
        "print(f\"Validation Accuracy: {accuracy}\")\n",
        "print(\"Confusion Matrix:\")\n",
        "print(conf_matrix)\n",
        "print(\"Classification Report:\")\n",
        "print(classification_rep)\n"
      ],
      "metadata": {
        "colab": {
          "base_uri": "https://localhost:8080/"
        },
        "id": "s8nUwuLobPrE",
        "outputId": "d06b2f19-ca84-4743-b0a3-9153a26c1bcc"
      },
      "execution_count": null,
      "outputs": [
        {
          "output_type": "stream",
          "name": "stdout",
          "text": [
            "Validation Accuracy: 0.9982913284920973\n",
            "Confusion Matrix:\n",
            "[[2333    1]\n",
            " [   3    4]]\n",
            "Classification Report:\n",
            "              precision    recall  f1-score   support\n",
            "\n",
            "         0.0       1.00      1.00      1.00      2334\n",
            "         1.0       0.80      0.57      0.67         7\n",
            "\n",
            "    accuracy                           1.00      2341\n",
            "   macro avg       0.90      0.79      0.83      2341\n",
            "weighted avg       1.00      1.00      1.00      2341\n",
            "\n"
          ]
        }
      ]
    },
    {
      "cell_type": "code",
      "source": [
        "# Test the model on the test set\n",
        "test_predictions = model.predict(fraud_test)"
      ],
      "metadata": {
        "id": "q4nPyZTkbUgQ"
      },
      "execution_count": null,
      "outputs": []
    },
    {
      "cell_type": "code",
      "source": [
        "fraud_test = fraud_test.dropna(subset=['is_fraud'])\n",
        "\n",
        "# Test the model on the updated test set\n",
        "test_predictions = model.predict(fraud_test.drop('is_fraud', axis=1))"
      ],
      "metadata": {
        "id": "6rpuUPCZfKfT"
      },
      "execution_count": null,
      "outputs": []
    },
    {
      "cell_type": "code",
      "source": [
        "# Evaluate the model on the test set\n",
        "test_accuracy = accuracy_score(fraud_test['is_fraud'], test_predictions)\n",
        "test_conf_matrix = confusion_matrix(fraud_test['is_fraud'], test_predictions)\n",
        "test_classification_rep = classification_report(fraud_test['is_fraud'], test_predictions)"
      ],
      "metadata": {
        "id": "cWPt6eWCcWZy"
      },
      "execution_count": null,
      "outputs": []
    },
    {
      "cell_type": "code",
      "source": [
        "print(f\"Test Accuracy: {test_accuracy}\")\n",
        "print(\"Test Confusion Matrix:\")\n",
        "print(test_conf_matrix)\n",
        "print(\"Test Classification Report:\")\n",
        "print(test_classification_rep)"
      ],
      "metadata": {
        "colab": {
          "base_uri": "https://localhost:8080/"
        },
        "id": "INIoWQGqcZfL",
        "outputId": "c21c65c6-d2a0-42e0-f6fe-98b983cb3073"
      },
      "execution_count": null,
      "outputs": [
        {
          "output_type": "stream",
          "name": "stdout",
          "text": [
            "Test Accuracy: 0.9991456642460487\n",
            "Test Confusion Matrix:\n",
            "[[11655     2]\n",
            " [    8    40]]\n",
            "Test Classification Report:\n",
            "              precision    recall  f1-score   support\n",
            "\n",
            "         0.0       1.00      1.00      1.00     11657\n",
            "         1.0       0.95      0.83      0.89        48\n",
            "\n",
            "    accuracy                           1.00     11705\n",
            "   macro avg       0.98      0.92      0.94     11705\n",
            "weighted avg       1.00      1.00      1.00     11705\n",
            "\n"
          ]
        }
      ]
    }
  ]
}